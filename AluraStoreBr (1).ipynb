{
  "nbformat": 4,
  "nbformat_minor": 0,
  "metadata": {
    "colab": {
      "provenance": [],
      "toc_visible": true
    },
    "kernelspec": {
      "name": "python3",
      "display_name": "Python 3"
    },
    "language_info": {
      "name": "python"
    }
  },
  "cells": [
    {
      "cell_type": "markdown",
      "source": [
        "# Importação de bibliotecas"
      ],
      "metadata": {
        "id": "XZJgU5FVnbgN"
      }
    },
    {
      "cell_type": "code",
      "source": [
        "import pandas as pd\n",
        "import matplotlib.pyplot as plt"
      ],
      "metadata": {
        "id": "GZECPVLKnl3w"
      },
      "execution_count": 1,
      "outputs": []
    },
    {
      "cell_type": "markdown",
      "source": [
        "### Importação dos dados\n",
        "\n"
      ],
      "metadata": {
        "id": "RhEdWd9YUR6H"
      }
    },
    {
      "cell_type": "code",
      "execution_count": 2,
      "metadata": {
        "id": "T3EvaeQ_INIL",
        "collapsed": true
      },
      "outputs": [],
      "source": [
        "url = \"https://raw.githubusercontent.com/alura-es-cursos/challenge1-data-science/refs/heads/main/base-de-dados-challenge-1/loja_1.csv\"\n",
        "url2 = \"https://raw.githubusercontent.com/alura-es-cursos/challenge1-data-science/refs/heads/main/base-de-dados-challenge-1/loja_2.csv\"\n",
        "url3 = \"https://raw.githubusercontent.com/alura-es-cursos/challenge1-data-science/refs/heads/main/base-de-dados-challenge-1/loja_3.csv\"\n",
        "url4 = \"https://raw.githubusercontent.com/alura-es-cursos/challenge1-data-science/refs/heads/main/base-de-dados-challenge-1/loja_4.csv\"\n",
        "\n",
        "loja1 = pd.read_csv(url)\n",
        "loja2 = pd.read_csv(url2)\n",
        "loja3 = pd.read_csv(url3)\n",
        "loja4 = pd.read_csv(url4)"
      ]
    },
    {
      "cell_type": "markdown",
      "source": [
        "# Identificando a loja"
      ],
      "metadata": {
        "id": "x6cyDDdPqMQZ"
      }
    },
    {
      "cell_type": "code",
      "source": [
        "loja1[\"Loja\"] = \"Loja 1\"\n",
        "loja2[\"Loja\"] = \"Loja 2\"\n",
        "loja3[\"Loja\"] = \"Loja 3\"\n",
        "loja4[\"Loja\"] = \"Loja 4\""
      ],
      "metadata": {
        "id": "a671tFuGqGf3"
      },
      "execution_count": 3,
      "outputs": []
    },
    {
      "cell_type": "markdown",
      "source": [
        "# Unindo os dados"
      ],
      "metadata": {
        "id": "8RuXGlCHoT76"
      }
    },
    {
      "cell_type": "code",
      "source": [
        "dados = pd.concat([loja1, loja2, loja3, loja4])"
      ],
      "metadata": {
        "id": "6NbKcobsoWPB"
      },
      "execution_count": 7,
      "outputs": []
    },
    {
      "cell_type": "markdown",
      "source": [
        "# Criando coluna de faturamento"
      ],
      "metadata": {
        "id": "mip2Fz5KesHP"
      }
    },
    {
      "cell_type": "code",
      "source": [
        "dados['Faturamento'] = dados['Preço'] * dados['Quantidade de parcelas']"
      ],
      "metadata": {
        "id": "_Xao28Ruezkc"
      },
      "execution_count": 8,
      "outputs": []
    },
    {
      "cell_type": "markdown",
      "source": [
        "#1. Análise do faturamento\n"
      ],
      "metadata": {
        "id": "X62IW3KFUIYm"
      }
    },
    {
      "cell_type": "code",
      "source": [
        "faturamento = dados.groupby(\"Loja\")[\"Faturamento\"].sum().sort_values(ascending=False)\n",
        "print(\"Faturamento por Loja:\")\n",
        "print(faturamento)"
      ],
      "metadata": {
        "id": "xykobSftV64I",
        "colab": {
          "base_uri": "https://localhost:8080/"
        },
        "outputId": "45d22bd4-3998-470b-8858-9c01d00f4f66"
      },
      "execution_count": 9,
      "outputs": [
        {
          "output_type": "stream",
          "name": "stdout",
          "text": [
            "Faturamento por Loja:\n",
            "Loja\n",
            "Loja 1    4563636.11\n",
            "Loja 2    4449584.18\n",
            "Loja 3    4325091.42\n",
            "Loja 4    4131753.14\n",
            "Name: Faturamento, dtype: float64\n"
          ]
        }
      ]
    },
    {
      "cell_type": "markdown",
      "source": [
        "# 2. Vendas por Categoria\n"
      ],
      "metadata": {
        "id": "2V_vcAPzWZmR"
      }
    },
    {
      "cell_type": "code",
      "source": [
        "vendas_categoria = dados.groupby(\"Categoria do Produto\")[\"Quantidade de parcelas\"].sum().sort_values(ascending=False)\n",
        "print(\"\\nVendas por Categoria:\")\n",
        "print(vendas_categoria)"
      ],
      "metadata": {
        "id": "A34YupIuYhfF",
        "colab": {
          "base_uri": "https://localhost:8080/"
        },
        "outputId": "c98756b3-df15-4123-ffaf-9ca75472dd19"
      },
      "execution_count": 11,
      "outputs": [
        {
          "output_type": "stream",
          "name": "stdout",
          "text": [
            "\n",
            "Vendas por Categoria:\n",
            "Categoria do Produto\n",
            "moveis                   5511\n",
            "eletronicos              5229\n",
            "brinquedos               3606\n",
            "eletrodomesticos         3434\n",
            "esporte e lazer          3175\n",
            "instrumentos musicais    2312\n",
            "livros                   2239\n",
            "utilidades domesticas    2114\n",
            "Name: Quantidade de parcelas, dtype: int64\n"
          ]
        }
      ]
    },
    {
      "cell_type": "markdown",
      "source": [
        "# 3. Média de Avaliação das Lojas"
      ],
      "metadata": {
        "id": "Rq6tU_xSY3jk"
      }
    },
    {
      "cell_type": "code",
      "source": [
        "avaliacao_media = dados.groupby(\"Loja\")[\"Avaliação da compra\"].mean().sort_values(ascending=False)\n",
        "print(\"\\nAvaliação média por Loja:\")\n",
        "print(avaliacao_media)"
      ],
      "metadata": {
        "id": "bh3jjjJwY5MU",
        "colab": {
          "base_uri": "https://localhost:8080/"
        },
        "outputId": "e3b56072-68ba-4876-df22-267ae623c981"
      },
      "execution_count": 12,
      "outputs": [
        {
          "output_type": "stream",
          "name": "stdout",
          "text": [
            "\n",
            "Avaliação média por Loja:\n",
            "Loja\n",
            "Loja 3    4.048326\n",
            "Loja 2    4.037304\n",
            "Loja 4    3.995759\n",
            "Loja 1    3.976685\n",
            "Name: Avaliação da compra, dtype: float64\n"
          ]
        }
      ]
    },
    {
      "cell_type": "markdown",
      "source": [
        "# 4. Produtos Mais e Menos Vendidos"
      ],
      "metadata": {
        "id": "DmNp1KPBZCm-"
      }
    },
    {
      "cell_type": "code",
      "source": [
        "vendas_produto = dados.groupby(\"Produto\")[\"Quantidade de parcelas\"].sum()\n",
        "mais_vendidos = vendas_produto.sort_values(ascending=False).head(5)\n",
        "menos_vendidos = vendas_produto.sort_values().head(5)\n",
        "\n",
        "print(\"\\nTop 5 produtos mais vendidos:\")\n",
        "print(mais_vendidos)\n",
        "print(\"\\nTop 5 produtos menos vendidos:\")\n",
        "print(menos_vendidos)\n"
      ],
      "metadata": {
        "id": "qoyjqijQZHfF",
        "colab": {
          "base_uri": "https://localhost:8080/"
        },
        "outputId": "2b33d97d-06cc-46c3-c9bb-c6f4d66af896"
      },
      "execution_count": 13,
      "outputs": [
        {
          "output_type": "stream",
          "name": "stdout",
          "text": [
            "\n",
            "Top 5 produtos mais vendidos:\n",
            "Produto\n",
            "Secadora de roupas    649\n",
            "Cômoda                627\n",
            "Pandeiro              625\n",
            "Bicicleta             614\n",
            "Celular Plus X42      611\n",
            "Name: Quantidade de parcelas, dtype: int64\n",
            "\n",
            "Top 5 produtos menos vendidos:\n",
            "Produto\n",
            "Smartwatch        432\n",
            "Jogo de copos     435\n",
            "Celular ABXY      447\n",
            "Dinossauro Rex    458\n",
            "Mesa de centro    469\n",
            "Name: Quantidade de parcelas, dtype: int64\n"
          ]
        }
      ]
    },
    {
      "cell_type": "markdown",
      "source": [
        "# 5. Frete Médio por Loja\n"
      ],
      "metadata": {
        "id": "Fl0cGi3bZKqU"
      }
    },
    {
      "cell_type": "code",
      "source": [
        "frete_medio = dados.groupby(\"Loja\")[\"Frete\"].mean().sort_values()\n",
        "print(\"\\nFrete médio por loja:\")\n",
        "print(frete_medio)"
      ],
      "metadata": {
        "id": "S2JeaCykZNy9",
        "colab": {
          "base_uri": "https://localhost:8080/"
        },
        "outputId": "7ace6d7c-e0a3-46c4-b0c2-78acf53ad068"
      },
      "execution_count": 14,
      "outputs": [
        {
          "output_type": "stream",
          "name": "stdout",
          "text": [
            "\n",
            "Frete médio por loja:\n",
            "Loja\n",
            "Loja 4    31.278997\n",
            "Loja 3    33.074464\n",
            "Loja 2    33.621941\n",
            "Loja 1    34.691805\n",
            "Name: Frete, dtype: float64\n"
          ]
        }
      ]
    },
    {
      "cell_type": "markdown",
      "source": [
        "# Gráfico 1: Faturamento por loja (barras verticais)"
      ],
      "metadata": {
        "id": "DLay7yVLmX6K"
      }
    },
    {
      "cell_type": "code",
      "source": [
        "plt.figure(figsize=(8,5))\n",
        "faturamento.plot(kind=\"bar\", color=\"royalblue\")\n",
        "plt.title(\"Faturamento por Loja\")\n",
        "plt.ylabel(\"Faturamento (R$)\")\n",
        "plt.xlabel(\"Loja\")\n",
        "plt.tight_layout()\n",
        "plt.show()"
      ],
      "metadata": {
        "id": "ONSLGtpymYfo",
        "colab": {
          "base_uri": "https://localhost:8080/",
          "height": 507
        },
        "outputId": "f7513b43-0768-4f67-dd92-5f9e986838c0"
      },
      "execution_count": 15,
      "outputs": [
        {
          "output_type": "display_data",
          "data": {
            "text/plain": [
              "<Figure size 800x500 with 1 Axes>"
            ],
            "image/png": "[encoded data removed]"
          },
          "metadata": {}
        }
      ]
    },
    {
      "cell_type": "markdown",
      "source": [
        "# Gráfico 2: Vendas por Categoria (pizza)"
      ],
      "metadata": {
        "id": "dkZuTI7Vt2Jb"
      }
    },
    {
      "cell_type": "code",
      "source": [
        "plt.figure(figsize=(6,6))\n",
        "vendas_categoria.plot(kind=\"pie\", autopct='%1.1f%%', startangle=90, colors=plt.cm.Set3.colors)\n",
        "plt.title(\"Distribuição de Vendas por Categoria\")\n",
        "plt.ylabel(\"\")\n",
        "plt.tight_layout()\n",
        "plt.show()"
      ],
      "metadata": {
        "colab": {
          "base_uri": "https://localhost:8080/",
          "height": 472
        },
        "id": "2rfqebF4t9Yc",
        "outputId": "f89a2c25-11f3-461f-85a7-bcf9b6ad535b"
      },
      "execution_count": 16,
      "outputs": [
        {
          "output_type": "display_data",
          "data": {
            "text/plain": [
              "<Figure size 600x600 with 1 Axes>"
            ],
            "image/png": "[encoded data removed]"
          },
          "metadata": {}
        }
      ]
    },
    {
      "cell_type": "markdown",
      "source": [
        "# Gráfico 3: Avaliação média por loja (barras horizontais)"
      ],
      "metadata": {
        "id": "YSmlWbV8uBHy"
      }
    },
    {
      "cell_type": "code",
      "source": [
        "plt.figure(figsize=(8,5))\n",
        "avaliacao_media.plot(kind=\"barh\", color=\"darkorange\")\n",
        "plt.title(\"Avaliação Média por Loja\")\n",
        "plt.xlabel(\"Nota média (0 a 5)\")\n",
        "plt.ylabel(\"Loja\")\n",
        "plt.xlim(0, 5)\n",
        "\n",
        "# Adicionar valores nas barras\n",
        "for index, value in enumerate(avaliacao_media):\n",
        "    plt.text(value + 0.02, index, f\"{value:.2f}\", va='center')\n",
        "\n",
        "plt.tight_layout()\n",
        "plt.show()"
      ],
      "metadata": {
        "id": "ImJHJ5YOnEMm",
        "colab": {
          "base_uri": "https://localhost:8080/",
          "height": 507
        },
        "outputId": "a7e48f46-8359-44b3-eb04-1e315d099f49"
      },
      "execution_count": 19,
      "outputs": [
        {
          "output_type": "display_data",
          "data": {
            "text/plain": [
              "<Figure size 800x500 with 1 Axes>"
            ],
            "image/png": "[encoded data removed]"
          },
          "metadata": {}
        }
      ]
    },
    {
      "cell_type": "markdown",
      "source": [
        "# Recomendação Final"
      ],
      "metadata": {
        "id": "FbDBr-OTnQaP"
      }
    },
    {
      "cell_type": "code",
      "source": [
        "print(\"\\n===== RECOMENDAÇÃO FINAL =====\")\n",
        "pior_loja_faturamento = faturamento.idxmin()\n",
        "pior_loja_avaliacao = avaliacao_media.idxmin()\n",
        "\n",
        "print(f\"A loja com o menor faturamento é: {pior_loja_faturamento}\")\n",
        "print(f\"A loja com a pior avaliação é: {pior_loja_avaliacao}\")\n",
        "\n",
        "if pior_loja_faturamento == pior_loja_avaliacao:\n",
        "    print(f\"🔴 Recomenda-se vender a {pior_loja_faturamento}, pois ela tem baixo faturamento e avaliações ruins.\")\n",
        "else:\n",
        "    print(f\"🔶 Embora a {pior_loja_faturamento} tenha o menor faturamento, a {pior_loja_avaliacao} tem as piores avaliações.\\n\")\n",
        "    print(\"📌 A decisão deve considerar também fatores como reputação e custo de operação.\")"
      ],
      "metadata": {
        "id": "1oPu1eYhnVJ8",
        "colab": {
          "base_uri": "https://localhost:8080/"
        },
        "outputId": "9a16459c-aead-4e8a-da5b-93cbc609bb4b"
      },
      "execution_count": 18,
      "outputs": [
        {
          "output_type": "stream",
          "name": "stdout",
          "text": [
            "\n",
            "===== RECOMENDAÇÃO FINAL =====\n",
            "A loja com o menor faturamento é: Loja 4\n",
            "A loja com a pior avaliação é: Loja 1\n",
            "🔶 Embora a Loja 4 tenha o menor faturamento, a Loja 1 tem as piores avaliações.\n",
            "\n",
            "📌 A decisão deve considerar também fatores como reputação e custo de operação.\n"
          ]
        }
      ]
    },
    {
      "cell_type": "markdown",
      "source": [
        "# Relatório Final de Análise das Lojas\n",
        "\n",
        "## **Introdução**\n",
        "\n",
        "O objetivo desta análise foi avaliar o desempenho das quatro lojas gerenciadas pelo Senhor João, utilizando diferentes métricas como faturamento total, categorias de produtos mais e menos vendidas, avaliações médias dos clientes, produtos mais e menos vendidos e o frete médio praticado por cada loja. A partir dessas informações, elaboramos uma recomendação estratégica sobre qual loja o Senhor João deve vender, considerando os pontos fortes e fracos de cada uma.\n",
        "\n",
        "---\n",
        "\n",
        "## **Desenvolvimento**\n",
        "\n",
        "### **1. Faturamento Total das Lojas**\n",
        "\n",
        "| Loja   | Faturamento (R$) |\n",
        "|--------|------------------|\n",
        "| Loja 1 | 4.563.636,11     |\n",
        "| Loja 2 | 4.449.584,18     |\n",
        "| Loja 3 | 4.325.091,42     |\n",
        "| Loja 4 | 4.131.753,14     |\n",
        "\n",
        "**Análise:**  \n",
        "A Loja 1 é a que possui o maior faturamento, seguida pela Loja 2 e Loja 3, com diferenças relativamente pequenas entre elas. A Loja 4 é a que apresenta o menor faturamento, cerca de 431 mil reais a menos que a Loja 1.\n",
        "\n",
        "---\n",
        "\n",
        "### **2. Distribuição das Vendas por Categoria**\n",
        "\n",
        "| Categoria               | Quantidade Vendida |\n",
        "|------------------------|--------------------|\n",
        "| Móveis                 | 5.511              |\n",
        "| Eletrônicos            | 5.229              |\n",
        "| Brinquedos             | 3.606              |\n",
        "| Eletrodomésticos       | 3.434              |\n",
        "| Esporte e Lazer        | 3.175              |\n",
        "| Instrumentos Musicais  | 2.312              |\n",
        "| Livros                 | 2.239              |\n",
        "| Utilidades Domésticas  | 2.114              |\n",
        "\n",
        "**Análise:**  \n",
        "As categorias mais vendidas são **Móveis** e **Eletrônicos**, representando cerca de 40% do total das vendas. Já as categorias **Livros** e **Utilidades Domésticas** são as menos vendidas.\n",
        "\n",
        "---\n",
        "\n",
        "### **3. Avaliação Média das Lojas**\n",
        "\n",
        "| Loja   | Avaliação Média |\n",
        "|--------|-----------------|\n",
        "| Loja 3 | 4,05            |\n",
        "| Loja 2 | 4,04            |\n",
        "| Loja 4 | 4,00            |\n",
        "| Loja 1 | 3,98            |\n",
        "\n",
        "**Análise:**  \n",
        "Embora todas as lojas tenham avaliações relativamente próximas, a **Loja 3** possui a melhor reputação entre os clientes, seguida de perto pela **Loja 2**. A **Loja 1**, apesar de ser a que mais fatura, apresenta a **pior avaliação média**.\n",
        "\n",
        "---\n",
        "\n",
        "### **4. Produtos Mais e Menos Vendidos**\n",
        "\n",
        "**Top 5 Mais Vendidos:**\n",
        "1. Secadora de roupas — 649 unidades\n",
        "2. Cômoda — 627 unidades\n",
        "3. Pandeiro — 625 unidades\n",
        "4. Bicicleta — 614 unidades\n",
        "5. Celular Plus X42 — 611 unidades\n",
        "\n",
        "**Top 5 Menos Vendidos:**\n",
        "1. Smartwatch — 432 unidades\n",
        "2. Jogo de copos — 435 unidades\n",
        "3. Celular ABXY — 447 unidades\n",
        "4. Dinossauro Rex — 458 unidades\n",
        "5. Mesa de centro — 469 unidades\n",
        "\n",
        "**Análise:**  \n",
        "Os produtos de maior saída estão relacionados à **linha branca**, **móveis** e **esportes**. Por outro lado, itens de menor giro incluem **acessórios**, **artigos de decoração** e produtos mais específicos como o **Smartwatch**.\n",
        "\n",
        "---\n",
        "\n",
        "### **5. Frete Médio por Loja**\n",
        "\n",
        "| Loja   | Frete Médio (R$) |\n",
        "|--------|------------------|\n",
        "| Loja 4 | 31,28            |\n",
        "| Loja 3 | 33,07            |\n",
        "| Loja 2 | 33,62            |\n",
        "| Loja 1 | 34,69            |\n",
        "\n",
        "**Análise:**  \n",
        "A **Loja 4** apresenta o **menor custo médio de frete**, o que pode representar uma vantagem competitiva, especialmente em estratégias de frete grátis ou descontos logísticos. Por outro lado, a **Loja 1** possui o frete médio mais elevado.\n",
        "\n",
        "---\n",
        "\n",
        "## **Conclusão e Recomendação**\n",
        "\n",
        "Com base nas análises, chegamos às seguintes conclusões:\n",
        "\n",
        "✅ **Pontos fortes da Loja 1**: maior faturamento entre as lojas.  \n",
        "❌ **Pontos fracos da Loja 1**: pior avaliação média pelos clientes e maior custo de frete.\n",
        "\n",
        "✅ **Pontos fortes da Loja 3**: melhor avaliação média, com reputação positiva e frete relativamente baixo.  \n",
        "❌ **Pontos fracos da Loja 3**: faturamento inferior à Loja 1 e Loja 2.\n",
        "\n",
        "✅ **Pontos fortes da Loja 4**: menor custo de frete e avaliação próxima das demais.  \n",
        "❌ **Pontos fracos da Loja 4**: **menor faturamento** entre as lojas.\n",
        "\n",
        "✅ **Pontos fortes da Loja 2**: faturamento elevado e boa avaliação.\n",
        "\n",
        "---\n",
        "\n",
        "### **Recomendação Final**\n",
        "\n",
        "📌 **A recomendação é que o Senhor João venda a Loja 1.**\n",
        "\n",
        "**Justificativa:**\n",
        "- Apesar de ser a loja com maior faturamento, a Loja 1 apresenta **a pior avaliação média** e **o maior custo de frete**, o que pode afetar a **satisfação e fidelização de clientes** a médio e longo prazo.\n",
        "- Além disso, o desempenho das demais lojas é suficientemente bom para manter a saúde financeira do negócio, com avaliações melhores e custos logísticos menores.\n",
        "- Vender a Loja 1 permitirá ao Senhor João **capitalizar o valor de mercado** dessa loja, devido ao seu alto faturamento, e ainda **manter lojas com melhor reputação e potencial de crescimento**.\n",
        "\n",
        "Essa decisão considera não apenas os indicadores financeiros, mas também aspectos estratégicos como reputação, eficiência logística e potencial de melhoria.\n",
        "# Nova seção"
      ],
      "metadata": {
        "id": "5JC99H55yrCI"
      }
    }
  ]
}